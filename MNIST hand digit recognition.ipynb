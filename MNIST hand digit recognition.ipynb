{
 "cells": [
  {
   "cell_type": "code",
   "execution_count": 1,
   "id": "618cbf6a-9d7f-49a0-bb55-b6a8eb7a2f03",
   "metadata": {},
   "outputs": [],
   "source": [
    "from torchvision import datasets\n",
    "from torchvision.transforms import ToTensor"
   ]
  },
  {
   "cell_type": "code",
   "execution_count": 2,
   "id": "b06c85f9-7a68-4b01-982f-e7a6bad9feb1",
   "metadata": {},
   "outputs": [],
   "source": [
    "train_data = datasets.MNIST(\n",
    "    root = 'data',\n",
    "    train = 'True',\n",
    "    transform = ToTensor(),\n",
    "    download = 'True'\n",
    ")\n",
    "test_data = datasets.MNIST(\n",
    "    root = 'data',\n",
    "    train = 'False',\n",
    "    transform = ToTensor(),\n",
    "    download = 'True'\n",
    ")"
   ]
  },
  {
   "cell_type": "code",
   "execution_count": 3,
   "id": "1d300842-e458-4298-b05e-1c3efbb3cd17",
   "metadata": {},
   "outputs": [
    {
     "data": {
      "text/plain": [
       "Dataset MNIST\n",
       "    Number of datapoints: 60000\n",
       "    Root location: data\n",
       "    Split: Test\n",
       "    StandardTransform\n",
       "Transform: ToTensor()"
      ]
     },
     "execution_count": 3,
     "metadata": {},
     "output_type": "execute_result"
    }
   ],
   "source": [
    "train_data"
   ]
  },
  {
   "cell_type": "code",
   "execution_count": 4,
   "id": "12a505bf-a931-43e5-bc5e-9cf95b3163de",
   "metadata": {},
   "outputs": [
    {
     "data": {
      "text/plain": [
       "Dataset MNIST\n",
       "    Number of datapoints: 60000\n",
       "    Root location: data\n",
       "    Split: Test\n",
       "    StandardTransform\n",
       "Transform: ToTensor()"
      ]
     },
     "execution_count": 4,
     "metadata": {},
     "output_type": "execute_result"
    }
   ],
   "source": [
    "test_data"
   ]
  },
  {
   "cell_type": "code",
   "execution_count": 5,
   "id": "a6b0d17f-bfa8-45db-8b22-73c22a5805b7",
   "metadata": {},
   "outputs": [
    {
     "data": {
      "text/plain": [
       "torch.Size([60000, 28, 28])"
      ]
     },
     "execution_count": 5,
     "metadata": {},
     "output_type": "execute_result"
    }
   ],
   "source": [
    "train_data.data.shape"
   ]
  },
  {
   "cell_type": "code",
   "execution_count": 6,
   "id": "956321d8-b69f-46b9-85a6-ccf491612a48",
   "metadata": {},
   "outputs": [
    {
     "data": {
      "text/plain": [
       "torch.Size([60000, 28, 28])"
      ]
     },
     "execution_count": 6,
     "metadata": {},
     "output_type": "execute_result"
    }
   ],
   "source": [
    "test_data.data.shape"
   ]
  },
  {
   "cell_type": "code",
   "execution_count": 7,
   "id": "f9293f20-07e8-4f99-9de0-9a2b9ba0e91f",
   "metadata": {},
   "outputs": [
    {
     "data": {
      "text/plain": [
       "torch.Size([60000])"
      ]
     },
     "execution_count": 7,
     "metadata": {},
     "output_type": "execute_result"
    }
   ],
   "source": [
    "train_data.targets.size()"
   ]
  },
  {
   "cell_type": "code",
   "execution_count": 8,
   "id": "73cd9c0a-5ec1-4573-856c-3ef2c68490e4",
   "metadata": {},
   "outputs": [
    {
     "data": {
      "text/plain": [
       "tensor([5, 0, 4,  ..., 5, 6, 8])"
      ]
     },
     "execution_count": 8,
     "metadata": {},
     "output_type": "execute_result"
    }
   ],
   "source": [
    "train_data.targets"
   ]
  },
  {
   "cell_type": "code",
   "execution_count": 9,
   "id": "48981f38-826d-4341-8328-fcf6686e05a0",
   "metadata": {},
   "outputs": [],
   "source": [
    "from torch.utils.data import DataLoader\n",
    "loaders = {\n",
    "    'train' : DataLoader(train_data,\n",
    "                         batch_size = 100,\n",
    "                         shuffle = True,\n",
    "                         num_workers = 1),\n",
    "    'test' : DataLoader(test_data,\n",
    "                        batch_size = 100,\n",
    "                        shuffle = True,\n",
    "                        num_workers = 1),\n",
    "}"
   ]
  },
  {
   "cell_type": "code",
   "execution_count": 10,
   "id": "a5d67dab-422b-44a5-9134-66e381424879",
   "metadata": {},
   "outputs": [
    {
     "data": {
      "text/plain": [
       "{'train': <torch.utils.data.dataloader.DataLoader at 0x1c1d9a90ce0>,\n",
       " 'test': <torch.utils.data.dataloader.DataLoader at 0x1c1d9a53c80>}"
      ]
     },
     "execution_count": 10,
     "metadata": {},
     "output_type": "execute_result"
    }
   ],
   "source": [
    "loaders"
   ]
  },
  {
   "cell_type": "code",
   "execution_count": 11,
   "id": "12619d6d-9adb-4781-abeb-cff506ee77d7",
   "metadata": {},
   "outputs": [],
   "source": [
    "import torch.nn as nn\n",
    "import torch.nn.functional as F\n",
    "import torch.optim as optim\n",
    "\n",
    "class CNN(nn.Module):\n",
    "    def __init__(self):\n",
    "        super (CNN,self).__init__()\n",
    "        self.conv1 = nn.Conv2d(1,10,kernel_size = 5)\n",
    "        self.conv2 = nn.Conv2d(10,20,kernel_size = 5)\n",
    "        self.conv2_drop = nn.Dropout2d()\n",
    "        self.fc1 = nn.Linear(320,50)\n",
    "        self.fc2 = nn.Linear(50,10)\n",
    "    def forward(self, x):\n",
    "        x = F.relu(F.max_pool2d(self.conv1(x),2))\n",
    "        x = F.relu(F.max_pool2d(self.conv2_drop(self.conv2(x)), 2))\n",
    "        x = x.view(-1,320)\n",
    "        x = F.relu(self.fc1(x))\n",
    "        x = F.dropout(x, training = self.training)\n",
    "        x = self.fc2(x)\n",
    "        return F.log_softmax(x, dim = 1)"
   ]
  },
  {
   "cell_type": "code",
   "execution_count": 12,
   "id": "1b0d8395-6b58-4b11-8021-4e2dd570c56a",
   "metadata": {},
   "outputs": [],
   "source": [
    "import torch\n",
    "device = torch.device('cuda' if torch.cuda.is_available() else 'cpu')\n",
    "model = CNN().to (device)\n",
    "optimizer = optim.Adam(model.parameters(),lr = 0.001)\n",
    "loss_fn = nn.CrossEntropyLoss()\n",
    "def train(epoch):\n",
    "    model.train()\n",
    "    for batch_idx,(data,target) in enumerate (loaders['train']):\n",
    "        data,target = data.to(device), target.to(device)\n",
    "        optimizer.zero_grad()\n",
    "        output = model(data)\n",
    "        loss = loss_fn(output,target)\n",
    "        loss.backward()\n",
    "        optimizer.step()\n",
    "        if batch_idx % 20 == 0:\n",
    "            print(f'Train Epoch: {epoch} [{batch_idx * len(data)}/{len(loaders[\"train\"].dataset)} 'f'({100. * batch_idx / len(loaders[\"train\"]):.0f}%)]\\t{loss.item():.6f}')\n",
    "\n",
    "def test():\n",
    "    model.eval()\n",
    "    test_loss = 0\n",
    "    correct = 0\n",
    "    with torch.no_grad():\n",
    "        for data, target in loaders['test']:\n",
    "            data,target = data.to(device),target.to(device)\n",
    "            output = model(data)\n",
    "            test_loss += loss_fn(output,target).item()\n",
    "            pred = output.argmax(dim = 1, keepdim = True)\n",
    "            correct += pred.eq(target.view_as(pred)).sum().item()\n",
    "        test_loss / len(loaders['test'].dataset)\n",
    "\n",
    "    print(f'\\nTest set: Average loss: {test_loss:.4f}, Accuracy: {correct}/{len(loaders[\"test\"].dataset)} 'f'({100. * correct / len(loaders[\"test\"].dataset):.0f}%)\\n')\n"
   ]
  },
  {
   "cell_type": "code",
   "execution_count": 13,
   "id": "d296d3ef-c0d2-4816-9752-ff1bf171add7",
   "metadata": {},
   "outputs": [
    {
     "name": "stdout",
     "output_type": "stream",
     "text": [
      "Train Epoch: 1 [0/60000 (0%)]\t2.305080\n",
      "Train Epoch: 1 [2000/60000 (3%)]\t2.214529\n",
      "Train Epoch: 1 [4000/60000 (7%)]\t1.807239\n",
      "Train Epoch: 1 [6000/60000 (10%)]\t1.351202\n",
      "Train Epoch: 1 [8000/60000 (13%)]\t0.954161\n",
      "Train Epoch: 1 [10000/60000 (17%)]\t0.887260\n",
      "Train Epoch: 1 [12000/60000 (20%)]\t0.700075\n",
      "Train Epoch: 1 [14000/60000 (23%)]\t0.645096\n",
      "Train Epoch: 1 [16000/60000 (27%)]\t0.618720\n",
      "Train Epoch: 1 [18000/60000 (30%)]\t0.492704\n",
      "Train Epoch: 1 [20000/60000 (33%)]\t0.677860\n",
      "Train Epoch: 1 [22000/60000 (37%)]\t0.639738\n",
      "Train Epoch: 1 [24000/60000 (40%)]\t0.517171\n",
      "Train Epoch: 1 [26000/60000 (43%)]\t0.435164\n",
      "Train Epoch: 1 [28000/60000 (47%)]\t0.587944\n",
      "Train Epoch: 1 [30000/60000 (50%)]\t0.610871\n",
      "Train Epoch: 1 [32000/60000 (53%)]\t0.721187\n",
      "Train Epoch: 1 [34000/60000 (57%)]\t0.629376\n",
      "Train Epoch: 1 [36000/60000 (60%)]\t0.505607\n",
      "Train Epoch: 1 [38000/60000 (63%)]\t0.477417\n",
      "Train Epoch: 1 [40000/60000 (67%)]\t0.620824\n",
      "Train Epoch: 1 [42000/60000 (70%)]\t0.511561\n",
      "Train Epoch: 1 [44000/60000 (73%)]\t0.571603\n",
      "Train Epoch: 1 [46000/60000 (77%)]\t0.327266\n",
      "Train Epoch: 1 [48000/60000 (80%)]\t0.291251\n",
      "Train Epoch: 1 [50000/60000 (83%)]\t0.334114\n",
      "Train Epoch: 1 [52000/60000 (87%)]\t0.232952\n",
      "Train Epoch: 1 [54000/60000 (90%)]\t0.390743\n",
      "Train Epoch: 1 [56000/60000 (93%)]\t0.371500\n",
      "Train Epoch: 1 [58000/60000 (97%)]\t0.372354\n",
      "\n",
      "Test set: Average loss: 92.0923, Accuracy: 57301/60000 (96%)\n",
      "\n",
      "Train Epoch: 2 [0/60000 (0%)]\t0.311451\n",
      "Train Epoch: 2 [2000/60000 (3%)]\t0.361501\n",
      "Train Epoch: 2 [4000/60000 (7%)]\t0.337362\n",
      "Train Epoch: 2 [6000/60000 (10%)]\t0.142346\n",
      "Train Epoch: 2 [8000/60000 (13%)]\t0.214747\n",
      "Train Epoch: 2 [10000/60000 (17%)]\t0.316154\n",
      "Train Epoch: 2 [12000/60000 (20%)]\t0.339884\n",
      "Train Epoch: 2 [14000/60000 (23%)]\t0.351633\n",
      "Train Epoch: 2 [16000/60000 (27%)]\t0.159737\n",
      "Train Epoch: 2 [18000/60000 (30%)]\t0.124404\n",
      "Train Epoch: 2 [20000/60000 (33%)]\t0.238101\n",
      "Train Epoch: 2 [22000/60000 (37%)]\t0.225518\n",
      "Train Epoch: 2 [24000/60000 (40%)]\t0.391746\n",
      "Train Epoch: 2 [26000/60000 (43%)]\t0.405871\n",
      "Train Epoch: 2 [28000/60000 (47%)]\t0.357751\n",
      "Train Epoch: 2 [30000/60000 (50%)]\t0.448821\n",
      "Train Epoch: 2 [32000/60000 (53%)]\t0.183699\n",
      "Train Epoch: 2 [34000/60000 (57%)]\t0.402341\n",
      "Train Epoch: 2 [36000/60000 (60%)]\t0.249631\n",
      "Train Epoch: 2 [38000/60000 (63%)]\t0.311976\n",
      "Train Epoch: 2 [40000/60000 (67%)]\t0.306183\n",
      "Train Epoch: 2 [42000/60000 (70%)]\t0.260532\n",
      "Train Epoch: 2 [44000/60000 (73%)]\t0.222691\n",
      "Train Epoch: 2 [46000/60000 (77%)]\t0.242792\n",
      "Train Epoch: 2 [48000/60000 (80%)]\t0.342097\n",
      "Train Epoch: 2 [50000/60000 (83%)]\t0.318469\n",
      "Train Epoch: 2 [52000/60000 (87%)]\t0.287435\n",
      "Train Epoch: 2 [54000/60000 (90%)]\t0.244486\n",
      "Train Epoch: 2 [56000/60000 (93%)]\t0.194114\n",
      "Train Epoch: 2 [58000/60000 (97%)]\t0.132787\n",
      "\n",
      "Test set: Average loss: 64.3868, Accuracy: 58061/60000 (97%)\n",
      "\n",
      "Train Epoch: 3 [0/60000 (0%)]\t0.172102\n",
      "Train Epoch: 3 [2000/60000 (3%)]\t0.303633\n",
      "Train Epoch: 3 [4000/60000 (7%)]\t0.419782\n",
      "Train Epoch: 3 [6000/60000 (10%)]\t0.352191\n",
      "Train Epoch: 3 [8000/60000 (13%)]\t0.350100\n",
      "Train Epoch: 3 [10000/60000 (17%)]\t0.280047\n",
      "Train Epoch: 3 [12000/60000 (20%)]\t0.389374\n",
      "Train Epoch: 3 [14000/60000 (23%)]\t0.219972\n",
      "Train Epoch: 3 [16000/60000 (27%)]\t0.289266\n",
      "Train Epoch: 3 [18000/60000 (30%)]\t0.322477\n",
      "Train Epoch: 3 [20000/60000 (33%)]\t0.330044\n",
      "Train Epoch: 3 [22000/60000 (37%)]\t0.370348\n",
      "Train Epoch: 3 [24000/60000 (40%)]\t0.367048\n",
      "Train Epoch: 3 [26000/60000 (43%)]\t0.297588\n",
      "Train Epoch: 3 [28000/60000 (47%)]\t0.230614\n",
      "Train Epoch: 3 [30000/60000 (50%)]\t0.370919\n",
      "Train Epoch: 3 [32000/60000 (53%)]\t0.317026\n",
      "Train Epoch: 3 [34000/60000 (57%)]\t0.133659\n",
      "Train Epoch: 3 [36000/60000 (60%)]\t0.185513\n",
      "Train Epoch: 3 [38000/60000 (63%)]\t0.281143\n",
      "Train Epoch: 3 [40000/60000 (67%)]\t0.162007\n",
      "Train Epoch: 3 [42000/60000 (70%)]\t0.232033\n",
      "Train Epoch: 3 [44000/60000 (73%)]\t0.239931\n",
      "Train Epoch: 3 [46000/60000 (77%)]\t0.304123\n",
      "Train Epoch: 3 [48000/60000 (80%)]\t0.250411\n",
      "Train Epoch: 3 [50000/60000 (83%)]\t0.255522\n",
      "Train Epoch: 3 [52000/60000 (87%)]\t0.172274\n",
      "Train Epoch: 3 [54000/60000 (90%)]\t0.220079\n",
      "Train Epoch: 3 [56000/60000 (93%)]\t0.190838\n",
      "Train Epoch: 3 [58000/60000 (97%)]\t0.202798\n",
      "\n",
      "Test set: Average loss: 52.9526, Accuracy: 58415/60000 (97%)\n",
      "\n",
      "Train Epoch: 4 [0/60000 (0%)]\t0.206186\n",
      "Train Epoch: 4 [2000/60000 (3%)]\t0.342185\n",
      "Train Epoch: 4 [4000/60000 (7%)]\t0.183176\n",
      "Train Epoch: 4 [6000/60000 (10%)]\t0.218536\n",
      "Train Epoch: 4 [8000/60000 (13%)]\t0.195381\n",
      "Train Epoch: 4 [10000/60000 (17%)]\t0.234364\n",
      "Train Epoch: 4 [12000/60000 (20%)]\t0.164124\n",
      "Train Epoch: 4 [14000/60000 (23%)]\t0.290314\n",
      "Train Epoch: 4 [16000/60000 (27%)]\t0.202569\n",
      "Train Epoch: 4 [18000/60000 (30%)]\t0.155175\n",
      "Train Epoch: 4 [20000/60000 (33%)]\t0.380501\n",
      "Train Epoch: 4 [22000/60000 (37%)]\t0.409194\n",
      "Train Epoch: 4 [24000/60000 (40%)]\t0.218582\n",
      "Train Epoch: 4 [26000/60000 (43%)]\t0.128112\n",
      "Train Epoch: 4 [28000/60000 (47%)]\t0.401869\n",
      "Train Epoch: 4 [30000/60000 (50%)]\t0.302573\n",
      "Train Epoch: 4 [32000/60000 (53%)]\t0.355931\n",
      "Train Epoch: 4 [34000/60000 (57%)]\t0.340159\n",
      "Train Epoch: 4 [36000/60000 (60%)]\t0.291997\n",
      "Train Epoch: 4 [38000/60000 (63%)]\t0.100530\n",
      "Train Epoch: 4 [40000/60000 (67%)]\t0.175994\n",
      "Train Epoch: 4 [42000/60000 (70%)]\t0.146140\n",
      "Train Epoch: 4 [44000/60000 (73%)]\t0.175135\n",
      "Train Epoch: 4 [46000/60000 (77%)]\t0.123376\n",
      "Train Epoch: 4 [48000/60000 (80%)]\t0.223250\n",
      "Train Epoch: 4 [50000/60000 (83%)]\t0.288758\n",
      "Train Epoch: 4 [52000/60000 (87%)]\t0.256513\n",
      "Train Epoch: 4 [54000/60000 (90%)]\t0.298950\n",
      "Train Epoch: 4 [56000/60000 (93%)]\t0.160530\n",
      "Train Epoch: 4 [58000/60000 (97%)]\t0.315801\n",
      "\n",
      "Test set: Average loss: 47.2275, Accuracy: 58588/60000 (98%)\n",
      "\n",
      "Train Epoch: 5 [0/60000 (0%)]\t0.229337\n",
      "Train Epoch: 5 [2000/60000 (3%)]\t0.133072\n",
      "Train Epoch: 5 [4000/60000 (7%)]\t0.255806\n",
      "Train Epoch: 5 [6000/60000 (10%)]\t0.163354\n",
      "Train Epoch: 5 [8000/60000 (13%)]\t0.285751\n",
      "Train Epoch: 5 [10000/60000 (17%)]\t0.199838\n",
      "Train Epoch: 5 [12000/60000 (20%)]\t0.138303\n",
      "Train Epoch: 5 [14000/60000 (23%)]\t0.107922\n",
      "Train Epoch: 5 [16000/60000 (27%)]\t0.178693\n",
      "Train Epoch: 5 [18000/60000 (30%)]\t0.354878\n",
      "Train Epoch: 5 [20000/60000 (33%)]\t0.430002\n",
      "Train Epoch: 5 [22000/60000 (37%)]\t0.354042\n",
      "Train Epoch: 5 [24000/60000 (40%)]\t0.116454\n",
      "Train Epoch: 5 [26000/60000 (43%)]\t0.412671\n",
      "Train Epoch: 5 [28000/60000 (47%)]\t0.385417\n",
      "Train Epoch: 5 [30000/60000 (50%)]\t0.220172\n",
      "Train Epoch: 5 [32000/60000 (53%)]\t0.276489\n",
      "Train Epoch: 5 [34000/60000 (57%)]\t0.150181\n",
      "Train Epoch: 5 [36000/60000 (60%)]\t0.142578\n",
      "Train Epoch: 5 [38000/60000 (63%)]\t0.272891\n",
      "Train Epoch: 5 [40000/60000 (67%)]\t0.197397\n",
      "Train Epoch: 5 [42000/60000 (70%)]\t0.149598\n",
      "Train Epoch: 5 [44000/60000 (73%)]\t0.162448\n",
      "Train Epoch: 5 [46000/60000 (77%)]\t0.126969\n",
      "Train Epoch: 5 [48000/60000 (80%)]\t0.269268\n",
      "Train Epoch: 5 [50000/60000 (83%)]\t0.221930\n",
      "Train Epoch: 5 [52000/60000 (87%)]\t0.236352\n",
      "Train Epoch: 5 [54000/60000 (90%)]\t0.211872\n",
      "Train Epoch: 5 [56000/60000 (93%)]\t0.195666\n",
      "Train Epoch: 5 [58000/60000 (97%)]\t0.163924\n",
      "\n",
      "Test set: Average loss: 40.2885, Accuracy: 58770/60000 (98%)\n",
      "\n",
      "Train Epoch: 6 [0/60000 (0%)]\t0.207475\n",
      "Train Epoch: 6 [2000/60000 (3%)]\t0.127088\n",
      "Train Epoch: 6 [4000/60000 (7%)]\t0.173938\n",
      "Train Epoch: 6 [6000/60000 (10%)]\t0.202338\n",
      "Train Epoch: 6 [8000/60000 (13%)]\t0.138738\n",
      "Train Epoch: 6 [10000/60000 (17%)]\t0.390884\n",
      "Train Epoch: 6 [12000/60000 (20%)]\t0.146646\n",
      "Train Epoch: 6 [14000/60000 (23%)]\t0.212086\n",
      "Train Epoch: 6 [16000/60000 (27%)]\t0.189673\n",
      "Train Epoch: 6 [18000/60000 (30%)]\t0.182805\n",
      "Train Epoch: 6 [20000/60000 (33%)]\t0.316396\n",
      "Train Epoch: 6 [22000/60000 (37%)]\t0.170186\n",
      "Train Epoch: 6 [24000/60000 (40%)]\t0.213193\n",
      "Train Epoch: 6 [26000/60000 (43%)]\t0.304293\n",
      "Train Epoch: 6 [28000/60000 (47%)]\t0.373220\n",
      "Train Epoch: 6 [30000/60000 (50%)]\t0.194327\n",
      "Train Epoch: 6 [32000/60000 (53%)]\t0.147875\n",
      "Train Epoch: 6 [34000/60000 (57%)]\t0.152441\n",
      "Train Epoch: 6 [36000/60000 (60%)]\t0.189464\n",
      "Train Epoch: 6 [38000/60000 (63%)]\t0.212366\n",
      "Train Epoch: 6 [40000/60000 (67%)]\t0.155155\n",
      "Train Epoch: 6 [42000/60000 (70%)]\t0.248580\n",
      "Train Epoch: 6 [44000/60000 (73%)]\t0.130728\n",
      "Train Epoch: 6 [46000/60000 (77%)]\t0.124686\n",
      "Train Epoch: 6 [48000/60000 (80%)]\t0.331010\n",
      "Train Epoch: 6 [50000/60000 (83%)]\t0.112947\n",
      "Train Epoch: 6 [52000/60000 (87%)]\t0.156728\n",
      "Train Epoch: 6 [54000/60000 (90%)]\t0.220195\n",
      "Train Epoch: 6 [56000/60000 (93%)]\t0.243167\n",
      "Train Epoch: 6 [58000/60000 (97%)]\t0.078902\n",
      "\n",
      "Test set: Average loss: 38.2158, Accuracy: 58829/60000 (98%)\n",
      "\n",
      "Train Epoch: 7 [0/60000 (0%)]\t0.254203\n",
      "Train Epoch: 7 [2000/60000 (3%)]\t0.157425\n",
      "Train Epoch: 7 [4000/60000 (7%)]\t0.203261\n",
      "Train Epoch: 7 [6000/60000 (10%)]\t0.145283\n",
      "Train Epoch: 7 [8000/60000 (13%)]\t0.176374\n",
      "Train Epoch: 7 [10000/60000 (17%)]\t0.118256\n",
      "Train Epoch: 7 [12000/60000 (20%)]\t0.148226\n",
      "Train Epoch: 7 [14000/60000 (23%)]\t0.375355\n",
      "Train Epoch: 7 [16000/60000 (27%)]\t0.173940\n",
      "Train Epoch: 7 [18000/60000 (30%)]\t0.197610\n",
      "Train Epoch: 7 [20000/60000 (33%)]\t0.174880\n",
      "Train Epoch: 7 [22000/60000 (37%)]\t0.397980\n",
      "Train Epoch: 7 [24000/60000 (40%)]\t0.155183\n",
      "Train Epoch: 7 [26000/60000 (43%)]\t0.264503\n",
      "Train Epoch: 7 [28000/60000 (47%)]\t0.153276\n",
      "Train Epoch: 7 [30000/60000 (50%)]\t0.238867\n",
      "Train Epoch: 7 [32000/60000 (53%)]\t0.093287\n",
      "Train Epoch: 7 [34000/60000 (57%)]\t0.133920\n",
      "Train Epoch: 7 [36000/60000 (60%)]\t0.109843\n",
      "Train Epoch: 7 [38000/60000 (63%)]\t0.096060\n",
      "Train Epoch: 7 [40000/60000 (67%)]\t0.233178\n",
      "Train Epoch: 7 [42000/60000 (70%)]\t0.137932\n",
      "Train Epoch: 7 [44000/60000 (73%)]\t0.208211\n",
      "Train Epoch: 7 [46000/60000 (77%)]\t0.182038\n",
      "Train Epoch: 7 [48000/60000 (80%)]\t0.225924\n",
      "Train Epoch: 7 [50000/60000 (83%)]\t0.094402\n",
      "Train Epoch: 7 [52000/60000 (87%)]\t0.080886\n",
      "Train Epoch: 7 [54000/60000 (90%)]\t0.125015\n",
      "Train Epoch: 7 [56000/60000 (93%)]\t0.233907\n",
      "Train Epoch: 7 [58000/60000 (97%)]\t0.117349\n",
      "\n",
      "Test set: Average loss: 34.0743, Accuracy: 58967/60000 (98%)\n",
      "\n",
      "Train Epoch: 8 [0/60000 (0%)]\t0.131919\n",
      "Train Epoch: 8 [2000/60000 (3%)]\t0.188642\n",
      "Train Epoch: 8 [4000/60000 (7%)]\t0.209202\n",
      "Train Epoch: 8 [6000/60000 (10%)]\t0.289086\n",
      "Train Epoch: 8 [8000/60000 (13%)]\t0.144566\n",
      "Train Epoch: 8 [10000/60000 (17%)]\t0.127581\n",
      "Train Epoch: 8 [12000/60000 (20%)]\t0.080779\n",
      "Train Epoch: 8 [14000/60000 (23%)]\t0.098729\n",
      "Train Epoch: 8 [16000/60000 (27%)]\t0.056145\n",
      "Train Epoch: 8 [18000/60000 (30%)]\t0.147474\n",
      "Train Epoch: 8 [20000/60000 (33%)]\t0.269389\n",
      "Train Epoch: 8 [22000/60000 (37%)]\t0.179070\n",
      "Train Epoch: 8 [24000/60000 (40%)]\t0.099389\n",
      "Train Epoch: 8 [26000/60000 (43%)]\t0.112801\n",
      "Train Epoch: 8 [28000/60000 (47%)]\t0.093725\n",
      "Train Epoch: 8 [30000/60000 (50%)]\t0.093398\n",
      "Train Epoch: 8 [32000/60000 (53%)]\t0.129848\n",
      "Train Epoch: 8 [34000/60000 (57%)]\t0.129568\n",
      "Train Epoch: 8 [36000/60000 (60%)]\t0.232380\n",
      "Train Epoch: 8 [38000/60000 (63%)]\t0.299993\n",
      "Train Epoch: 8 [40000/60000 (67%)]\t0.240376\n",
      "Train Epoch: 8 [42000/60000 (70%)]\t0.336222\n",
      "Train Epoch: 8 [44000/60000 (73%)]\t0.215162\n",
      "Train Epoch: 8 [46000/60000 (77%)]\t0.172822\n",
      "Train Epoch: 8 [48000/60000 (80%)]\t0.196902\n",
      "Train Epoch: 8 [50000/60000 (83%)]\t0.083416\n",
      "Train Epoch: 8 [52000/60000 (87%)]\t0.103523\n",
      "Train Epoch: 8 [54000/60000 (90%)]\t0.213473\n",
      "Train Epoch: 8 [56000/60000 (93%)]\t0.346066\n",
      "Train Epoch: 8 [58000/60000 (97%)]\t0.169437\n",
      "\n",
      "Test set: Average loss: 32.3438, Accuracy: 58985/60000 (98%)\n",
      "\n",
      "Train Epoch: 9 [0/60000 (0%)]\t0.121756\n",
      "Train Epoch: 9 [2000/60000 (3%)]\t0.284048\n",
      "Train Epoch: 9 [4000/60000 (7%)]\t0.287734\n",
      "Train Epoch: 9 [6000/60000 (10%)]\t0.170888\n",
      "Train Epoch: 9 [8000/60000 (13%)]\t0.107059\n",
      "Train Epoch: 9 [10000/60000 (17%)]\t0.136216\n",
      "Train Epoch: 9 [12000/60000 (20%)]\t0.181493\n",
      "Train Epoch: 9 [14000/60000 (23%)]\t0.174509\n",
      "Train Epoch: 9 [16000/60000 (27%)]\t0.141141\n",
      "Train Epoch: 9 [18000/60000 (30%)]\t0.119040\n",
      "Train Epoch: 9 [20000/60000 (33%)]\t0.080130\n",
      "Train Epoch: 9 [22000/60000 (37%)]\t0.235886\n",
      "Train Epoch: 9 [24000/60000 (40%)]\t0.146626\n",
      "Train Epoch: 9 [26000/60000 (43%)]\t0.148686\n",
      "Train Epoch: 9 [28000/60000 (47%)]\t0.075414\n",
      "Train Epoch: 9 [30000/60000 (50%)]\t0.213597\n",
      "Train Epoch: 9 [32000/60000 (53%)]\t0.194782\n",
      "Train Epoch: 9 [34000/60000 (57%)]\t0.322658\n",
      "Train Epoch: 9 [36000/60000 (60%)]\t0.205591\n",
      "Train Epoch: 9 [38000/60000 (63%)]\t0.132156\n",
      "Train Epoch: 9 [40000/60000 (67%)]\t0.160382\n",
      "Train Epoch: 9 [42000/60000 (70%)]\t0.203257\n",
      "Train Epoch: 9 [44000/60000 (73%)]\t0.121938\n",
      "Train Epoch: 9 [46000/60000 (77%)]\t0.125070\n",
      "Train Epoch: 9 [48000/60000 (80%)]\t0.084288\n",
      "Train Epoch: 9 [50000/60000 (83%)]\t0.159706\n",
      "Train Epoch: 9 [52000/60000 (87%)]\t0.105063\n",
      "Train Epoch: 9 [54000/60000 (90%)]\t0.089312\n",
      "Train Epoch: 9 [56000/60000 (93%)]\t0.106593\n",
      "Train Epoch: 9 [58000/60000 (97%)]\t0.133034\n",
      "\n",
      "Test set: Average loss: 30.9973, Accuracy: 59043/60000 (98%)\n",
      "\n",
      "Train Epoch: 10 [0/60000 (0%)]\t0.063348\n",
      "Train Epoch: 10 [2000/60000 (3%)]\t0.165194\n",
      "Train Epoch: 10 [4000/60000 (7%)]\t0.155449\n",
      "Train Epoch: 10 [6000/60000 (10%)]\t0.418749\n",
      "Train Epoch: 10 [8000/60000 (13%)]\t0.319828\n",
      "Train Epoch: 10 [10000/60000 (17%)]\t0.181092\n",
      "Train Epoch: 10 [12000/60000 (20%)]\t0.114379\n",
      "Train Epoch: 10 [14000/60000 (23%)]\t0.186764\n",
      "Train Epoch: 10 [16000/60000 (27%)]\t0.220185\n",
      "Train Epoch: 10 [18000/60000 (30%)]\t0.216179\n",
      "Train Epoch: 10 [20000/60000 (33%)]\t0.122104\n",
      "Train Epoch: 10 [22000/60000 (37%)]\t0.181625\n",
      "Train Epoch: 10 [24000/60000 (40%)]\t0.172783\n",
      "Train Epoch: 10 [26000/60000 (43%)]\t0.102074\n",
      "Train Epoch: 10 [28000/60000 (47%)]\t0.294542\n",
      "Train Epoch: 10 [30000/60000 (50%)]\t0.178413\n",
      "Train Epoch: 10 [32000/60000 (53%)]\t0.129602\n",
      "Train Epoch: 10 [34000/60000 (57%)]\t0.292548\n",
      "Train Epoch: 10 [36000/60000 (60%)]\t0.164721\n",
      "Train Epoch: 10 [38000/60000 (63%)]\t0.159562\n",
      "Train Epoch: 10 [40000/60000 (67%)]\t0.304101\n",
      "Train Epoch: 10 [42000/60000 (70%)]\t0.059070\n",
      "Train Epoch: 10 [44000/60000 (73%)]\t0.132089\n",
      "Train Epoch: 10 [46000/60000 (77%)]\t0.246232\n",
      "Train Epoch: 10 [48000/60000 (80%)]\t0.106020\n",
      "Train Epoch: 10 [50000/60000 (83%)]\t0.102900\n",
      "Train Epoch: 10 [52000/60000 (87%)]\t0.052627\n",
      "Train Epoch: 10 [54000/60000 (90%)]\t0.072226\n",
      "Train Epoch: 10 [56000/60000 (93%)]\t0.097292\n",
      "Train Epoch: 10 [58000/60000 (97%)]\t0.176265\n",
      "\n",
      "Test set: Average loss: 28.0236, Accuracy: 59138/60000 (99%)\n",
      "\n"
     ]
    }
   ],
   "source": [
    "for epoch in range(1, 11):\n",
    "    train(epoch)\n",
    "    test()"
   ]
  },
  {
   "cell_type": "code",
   "execution_count": 14,
   "id": "57f78257-b944-4149-a0ed-bf6fde7c3ead",
   "metadata": {},
   "outputs": [
    {
     "data": {
      "text/plain": [
       "device(type='cpu')"
      ]
     },
     "execution_count": 14,
     "metadata": {},
     "output_type": "execute_result"
    }
   ],
   "source": [
    "device"
   ]
  },
  {
   "cell_type": "code",
   "execution_count": 15,
   "id": "9aa70a09-9d07-48f4-9826-35e562d0ef33",
   "metadata": {},
   "outputs": [
    {
     "name": "stdout",
     "output_type": "stream",
     "text": [
      "Prediction: 0\n"
     ]
    },
    {
     "data": {
      "image/png": "[encoded data removed]",
      "text/plain": [
       "<Figure size 640x480 with 1 Axes>"
      ]
     },
     "metadata": {},
     "output_type": "display_data"
    }
   ],
   "source": [
    "import matplotlib.pyplot as plt\n",
    "model.eval()\n",
    "data, target = test_data[1]\n",
    "data = data.unsqueeze(0).to(device)\n",
    "output = model(data)\n",
    "prediction = output.argmax(dim = 1, keepdim = True).item()\n",
    "print(f'Prediction: {prediction}')\n",
    "image = data.squeeze(0).squeeze(0).cpu().numpy()\n",
    "plt.imshow(image, cmap = 'gray')\n",
    "plt.show()"
   ]
  }
 ],
 "metadata": {
  "kernelspec": {
   "display_name": "Python 3 (ipykernel)",
   "language": "python",
   "name": "python3"
  },
  "language_info": {
   "codemirror_mode": {
    "name": "ipython",
    "version": 3
   },
   "file_extension": ".py",
   "mimetype": "text/x-python",
   "name": "python",
   "nbconvert_exporter": "python",
   "pygments_lexer": "ipython3",
   "version": "3.12.3"
  }
 },
 "nbformat": 4,
 "nbformat_minor": 5
}
